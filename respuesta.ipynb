{
 "cells": [
  {
   "cell_type": "code",
   "execution_count": null,
   "metadata": {},
   "outputs": [],
   "source": [
    "import pandas as pd \n",
    "path_file = \"C:\\\\Users\\\\Yanina\\\\Documents\\\\masCobranzas\\\\base_de_datos.xlsx\"\n",
    "hoja = \"Personal\"\n",
    "hoja2 = \"subtotales\"\n",
    "df = pd.read_excel(path_file,sheet_name=hoja)\n",
    "df = pd.read_excel(path_file,sheet_name=hoja2)\n",
    "print (df)"
   ]
  }
 ],
 "metadata": {
  "interpreter": {
   "hash": "72f2678ec32628d15574e7c357283a56430d25db93ace68a8af8b63f87b4e2c7"
  },
  "kernelspec": {
   "display_name": "Python 3.10.4 64-bit",
   "language": "python",
   "name": "python3"
  },
  "language_info": {
   "codemirror_mode": {
    "name": "ipython",
    "version": 3
   },
   "file_extension": ".py",
   "mimetype": "text/x-python",
   "name": "python",
   "nbconvert_exporter": "python",
   "pygments_lexer": "ipython3",
   "version": "3.10.4"
  },
  "orig_nbformat": 4
 },
 "nbformat": 4,
 "nbformat_minor": 2
}
