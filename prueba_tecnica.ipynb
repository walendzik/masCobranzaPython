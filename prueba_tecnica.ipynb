{
 "cells": [
  {
   "cell_type": "markdown",
   "metadata": {},
   "source": [
    "# Prueba Técnica - MasCobranzas - Marzo 2022"
   ]
  },
  {
   "cell_type": "markdown",
   "metadata": {},
   "source": [
    "Utilizar la librería Pandas para la resolución de los siguientes items:"
   ]
  },
  {
   "cell_type": "markdown",
   "metadata": {},
   "source": [
    "Importación de la Librería:"
   ]
  },
  {
   "cell_type": "markdown",
   "metadata": {},
   "source": [
    "1 - Lectura del archivo"
   ]
  },
  {
   "cell_type": "code",
   "execution_count": null,
   "metadata": {},
   "outputs": [],
   "source": [
    "import pandas as pd\n",
    "\n",
    "df= pd.read_excel(r'base_de_datos.xlsx')\n",
    "\n",
    "print(df)\n"
   ]
  },
  {
   "cell_type": "markdown",
   "metadata": {},
   "source": [
    "2 - Mostrar el nombre de las columnas que contiene la base de datos."
   ]
  },
  {
   "cell_type": "code",
   "execution_count": null,
   "metadata": {},
   "outputs": [],
   "source": [
    "#Código\n",
    "cols=list(df.columns)\n",
    "cols\n"
   ]
  },
  {
   "cell_type": "markdown",
   "metadata": {},
   "source": [
    "3 - Realizar un validador de columnas tal que evalúe los nombres de las columnas mostradas en el punto anterior y muestre un mensaje diciendo \"columnas válidas\" si se encuentra todas estas columnas, si hay alguna que está faltando o tiene distinto nombre, que informe de qué columna se trata."
   ]
  },
  {
   "cell_type": "code",
   "execution_count": null,
   "metadata": {},
   "outputs": [],
   "source": [
    "#Código\n"
   ]
  },
  {
   "cell_type": "markdown",
   "metadata": {},
   "source": [
    "4 - Mostrar la cantidad de filas y columnas de la base de datos."
   ]
  },
  {
   "cell_type": "code",
   "execution_count": null,
   "metadata": {},
   "outputs": [],
   "source": [
    "#Código\n",
    "#df.shape\n",
    "print (\"columnas\",len(df.columns))\n",
    "print (\"filas\",len(df.index))\n"
   ]
  },
  {
   "cell_type": "markdown",
   "metadata": {},
   "source": [
    "5 - Mostrar la información de los primeros 10 registros."
   ]
  },
  {
   "cell_type": "code",
   "execution_count": null,
   "metadata": {},
   "outputs": [],
   "source": [
    "#Código\n",
    "df.iloc[0:10,:]\n"
   ]
  },
  {
   "cell_type": "markdown",
   "metadata": {},
   "source": [
    "6 - Generar una nueva columna con el nombre de \"Nombre Completo\" donde sea una concatenación de las columnas \"Apellido\" y \"Nombre\". Esta nueva columna debe ser la 2da columna de la base de datos, eliminando las 2 columnas mencionadas."
   ]
  },
  {
   "cell_type": "code",
   "execution_count": null,
   "metadata": {},
   "outputs": [],
   "source": [
    "#Código\n",
    "df[\"Nombre completo\"]= df [\"Apellido\"]+ \" \"+ df [ \"Nombre\"]\n",
    "\n",
    "df.drop(columns=[\"Apellido\",'Nombre'])\n",
    "cols=list(df.columns)\n",
    "cols\n",
    "\n",
    "df=df[['Matrícula','Nombre completo', 'Categoría', 'Departamento', 'Sección', 'Salario', 'Fecha ingreso', 'Fch nacimiento' ]]\n"
   ]
  },
  {
   "cell_type": "markdown",
   "metadata": {},
   "source": [
    "7 - La columna H e I de la base de datos contiene los nombres de \"Fch ingreso\" y \"Fch nacimiento\". Renombrar estas columnas por su nombre correcto: \"Fecha Ingreso\" y \"Fecha Nacimiento\"."
   ]
  },
  {
   "cell_type": "code",
   "execution_count": null,
   "metadata": {},
   "outputs": [],
   "source": [
    "#Código\n",
    "df=df.rename({\"Fecha ingreso\": \"Fecha Ingreso\",\"Fch nacimiento\": \"Fecha Nacimiento\"}, axis=1 )\n",
    "\n"
   ]
  },
  {
   "cell_type": "markdown",
   "metadata": {},
   "source": [
    "8 - A estas columnas (\"Fecha Ingreso\" y \"Fecha Nacimiento\") reemplazar todos sus valores \"/\" por \"-\". De forma tal que la fecha quede especificada con el formato de la siguiente manera: dd-mm-aaaa"
   ]
  },
  {
   "cell_type": "code",
   "execution_count": 27,
   "metadata": {},
   "outputs": [
    {
     "ename": "AttributeError",
     "evalue": "'Series' object has no attribute 'strtime'",
     "output_type": "error",
     "traceback": [
      "\u001b[1;31m---------------------------------------------------------------------------\u001b[0m",
      "\u001b[1;31mAttributeError\u001b[0m                            Traceback (most recent call last)",
      "\u001b[1;32mc:\\Users\\Yanina\\Documents\\masCobranzas\\prueba_tecnica.ipynb Cell 19'\u001b[0m in \u001b[0;36m<cell line: 2>\u001b[1;34m()\u001b[0m\n\u001b[0;32m      <a href='vscode-notebook-cell:/c%3A/Users/Yanina/Documents/masCobranzas/prueba_tecnica.ipynb#ch0000018?line=0'>1</a>\u001b[0m \u001b[39m#Código\u001b[39;00m\n\u001b[1;32m----> <a href='vscode-notebook-cell:/c%3A/Users/Yanina/Documents/masCobranzas/prueba_tecnica.ipynb#ch0000018?line=1'>2</a>\u001b[0m df[\u001b[39m\"\u001b[39m\u001b[39mFecha Ingreso\u001b[39m\u001b[39m\"\u001b[39m] \u001b[39m=\u001b[39m pd\u001b[39m.\u001b[39;49mto_datetime(df[\u001b[39m\"\u001b[39;49m\u001b[39mFecha Ingreso\u001b[39;49m\u001b[39m\"\u001b[39;49m])\u001b[39m.\u001b[39;49mstrtime(\u001b[39m\"\u001b[39m\u001b[39m%d\u001b[39;00m\u001b[39m-\u001b[39m\u001b[39m%\u001b[39m\u001b[39mm-\u001b[39m\u001b[39m%\u001b[39m\u001b[39mY\u001b[39m\u001b[39m\"\u001b[39m)\n\u001b[0;32m      <a href='vscode-notebook-cell:/c%3A/Users/Yanina/Documents/masCobranzas/prueba_tecnica.ipynb#ch0000018?line=2'>3</a>\u001b[0m df[\u001b[39m\"\u001b[39m\u001b[39mFecha Nacimiento\u001b[39m\u001b[39m\"\u001b[39m] \u001b[39m=\u001b[39m pd\u001b[39m.\u001b[39mto_datetime(df[\u001b[39m\"\u001b[39m\u001b[39mFecha Nacimiento\u001b[39m\u001b[39m\"\u001b[39m])\u001b[39m.\u001b[39mstrtime(\u001b[39m'\u001b[39m\u001b[39m%d\u001b[39;00m\u001b[39m-\u001b[39m\u001b[39m%\u001b[39m\u001b[39mm-\u001b[39m\u001b[39m%\u001b[39m\u001b[39mY\u001b[39m\u001b[39m'\u001b[39m)\n",
      "File \u001b[1;32m~\\AppData\\Local\\Programs\\Python\\Python310\\lib\\site-packages\\pandas\\core\\generic.py:5583\u001b[0m, in \u001b[0;36mNDFrame.__getattr__\u001b[1;34m(self, name)\u001b[0m\n\u001b[0;32m   <a href='file:///c%3A/Users/Yanina/AppData/Local/Programs/Python/Python310/lib/site-packages/pandas/core/generic.py?line=5575'>5576</a>\u001b[0m \u001b[39mif\u001b[39;00m (\n\u001b[0;32m   <a href='file:///c%3A/Users/Yanina/AppData/Local/Programs/Python/Python310/lib/site-packages/pandas/core/generic.py?line=5576'>5577</a>\u001b[0m     name \u001b[39mnot\u001b[39;00m \u001b[39min\u001b[39;00m \u001b[39mself\u001b[39m\u001b[39m.\u001b[39m_internal_names_set\n\u001b[0;32m   <a href='file:///c%3A/Users/Yanina/AppData/Local/Programs/Python/Python310/lib/site-packages/pandas/core/generic.py?line=5577'>5578</a>\u001b[0m     \u001b[39mand\u001b[39;00m name \u001b[39mnot\u001b[39;00m \u001b[39min\u001b[39;00m \u001b[39mself\u001b[39m\u001b[39m.\u001b[39m_metadata\n\u001b[0;32m   <a href='file:///c%3A/Users/Yanina/AppData/Local/Programs/Python/Python310/lib/site-packages/pandas/core/generic.py?line=5578'>5579</a>\u001b[0m     \u001b[39mand\u001b[39;00m name \u001b[39mnot\u001b[39;00m \u001b[39min\u001b[39;00m \u001b[39mself\u001b[39m\u001b[39m.\u001b[39m_accessors\n\u001b[0;32m   <a href='file:///c%3A/Users/Yanina/AppData/Local/Programs/Python/Python310/lib/site-packages/pandas/core/generic.py?line=5579'>5580</a>\u001b[0m     \u001b[39mand\u001b[39;00m \u001b[39mself\u001b[39m\u001b[39m.\u001b[39m_info_axis\u001b[39m.\u001b[39m_can_hold_identifiers_and_holds_name(name)\n\u001b[0;32m   <a href='file:///c%3A/Users/Yanina/AppData/Local/Programs/Python/Python310/lib/site-packages/pandas/core/generic.py?line=5580'>5581</a>\u001b[0m ):\n\u001b[0;32m   <a href='file:///c%3A/Users/Yanina/AppData/Local/Programs/Python/Python310/lib/site-packages/pandas/core/generic.py?line=5581'>5582</a>\u001b[0m     \u001b[39mreturn\u001b[39;00m \u001b[39mself\u001b[39m[name]\n\u001b[1;32m-> <a href='file:///c%3A/Users/Yanina/AppData/Local/Programs/Python/Python310/lib/site-packages/pandas/core/generic.py?line=5582'>5583</a>\u001b[0m \u001b[39mreturn\u001b[39;00m \u001b[39mobject\u001b[39;49m\u001b[39m.\u001b[39;49m\u001b[39m__getattribute__\u001b[39;49m(\u001b[39mself\u001b[39;49m, name)\n",
      "\u001b[1;31mAttributeError\u001b[0m: 'Series' object has no attribute 'strtime'"
     ]
    }
   ],
   "source": [
    "#Código\n",
    "df[\"Fecha Ingreso\"] = pd.to_datetime(df[\"Fecha Ingreso\"]).strtime(\"%d-%m-%Y\")\n",
    "df[\"Fecha Nacimiento\"] = pd.to_datetime(df[\"Fecha Nacimiento\"]).strtime('%d-%m-%Y')\n"
   ]
  },
  {
   "cell_type": "markdown",
   "metadata": {},
   "source": [
    "9 - Generar una nueva columna a la derecha del resto, llamada \"Actividad\" donde todos sus valores sean \"Activo\"."
   ]
  },
  {
   "cell_type": "code",
   "execution_count": 29,
   "metadata": {},
   "outputs": [
    {
     "name": "stdout",
     "output_type": "stream",
     "text": [
      "     Matrícula Nombre completo            Categoría  Departamento     Sección  \\\n",
      "0         1011    Gorton Hazel    Auxiliar Contable  Contabilidad  Copiadoras   \n",
      "1         1012    Preston Liza        Ing. Mecánico    Ingeniería  Impresoras   \n",
      "2         1041   Tercan Robert   Aux. Admin. Unidad         I + D  Impresoras   \n",
      "3         1054    Smith Howard          Aux. Diseño        Diseño  Copiadoras   \n",
      "4         1055   Albert Maxine   Aux. Admin. Unidad       Mercado  Copiadoras   \n",
      "..         ...             ...                  ...           ...         ...   \n",
      "109       1975  Franklin Larry    Auxiliar Contable  Contabilidad  Copiadoras   \n",
      "110       1976     Petry Robin   Aux. Admin. Unidad    Ingeniería  Impresoras   \n",
      "111       1977  Maguire Mollie  Especialista Diseño        Diseño  Copiadoras   \n",
      "112       1977   Gladstone Wes        Ing. Software    Ingeniería         Fax   \n",
      "113       1978  Silverberg Jay       Ingeniero Jefe    Ingeniería         Fax   \n",
      "\n",
      "      Salario Fecha Ingreso Fecha Nacimiento Actividad  \n",
      "0    27597.85    1986-02-03       1964-11-21    Activo  \n",
      "1    43394.15    1986-01-26       1964-12-02    Activo  \n",
      "2    28043.68    1992-04-16       1965-01-25    Activo  \n",
      "3    25176.06    1991-04-16       1967-08-09    Activo  \n",
      "4    26040.56    1991-04-08       1967-08-20    Activo  \n",
      "..        ...           ...              ...       ...  \n",
      "109  21887.95    1991-05-07       1970-09-28    Activo  \n",
      "110  23035.88    1991-04-29       1970-10-09    Activo  \n",
      "111  30013.62    1980-06-13       1967-09-15    Activo  \n",
      "112  48785.55    1991-09-09       1960-10-13    Activo  \n",
      "113  51878.84    1980-06-05       1967-09-26    Activo  \n",
      "\n",
      "[114 rows x 9 columns]\n"
     ]
    }
   ],
   "source": [
    "#Código\n",
    "df ['Actividad'] = \"Activo\" \n",
    "print (df)"
   ]
  },
  {
   "cell_type": "markdown",
   "metadata": {},
   "source": [
    "10 - Generar un nuevo excel con las modificaciones realizadas en los puntos anteriores."
   ]
  },
  {
   "cell_type": "code",
   "execution_count": 30,
   "metadata": {},
   "outputs": [
    {
     "name": "stderr",
     "output_type": "stream",
     "text": [
      "C:\\Users\\Yanina\\AppData\\Local\\Programs\\Python\\Python310\\lib\\site-packages\\openpyxl\\worksheet\\header_footer.py:48: UserWarning: Cannot parse header or footer so it will be ignored\n",
      "  warn(\"\"\"Cannot parse header or footer so it will be ignored\"\"\")\n"
     ]
    },
    {
     "ename": "PermissionError",
     "evalue": "[Errno 13] Permission denied: 'formulario2S_exp.xlsx'",
     "output_type": "error",
     "traceback": [
      "\u001b[1;31m---------------------------------------------------------------------------\u001b[0m",
      "\u001b[1;31mPermissionError\u001b[0m                           Traceback (most recent call last)",
      "\u001b[1;32mc:\\Users\\Yanina\\Documents\\masCobranzas\\prueba_tecnica.ipynb Cell 23'\u001b[0m in \u001b[0;36m<cell line: 5>\u001b[1;34m()\u001b[0m\n\u001b[0;32m      <a href='vscode-notebook-cell:/c%3A/Users/Yanina/Documents/masCobranzas/prueba_tecnica.ipynb#ch0000022?line=1'>2</a>\u001b[0m \u001b[39mimport\u001b[39;00m \u001b[39mpandas\u001b[39;00m \u001b[39mas\u001b[39;00m \u001b[39mpd\u001b[39;00m \n\u001b[0;32m      <a href='vscode-notebook-cell:/c%3A/Users/Yanina/Documents/masCobranzas/prueba_tecnica.ipynb#ch0000022?line=3'>4</a>\u001b[0m base_de_datos\u001b[39m=\u001b[39m pd\u001b[39m.\u001b[39mread_excel(\u001b[39m\"\u001b[39m\u001b[39mbase_de_datos.xlsx\u001b[39m\u001b[39m\"\u001b[39m)\n\u001b[1;32m----> <a href='vscode-notebook-cell:/c%3A/Users/Yanina/Documents/masCobranzas/prueba_tecnica.ipynb#ch0000022?line=4'>5</a>\u001b[0m df\u001b[39m.\u001b[39;49mto_excel (\u001b[39m\"\u001b[39;49m\u001b[39mformulario2S_exp.xlsx\u001b[39;49m\u001b[39m\"\u001b[39;49m)\n",
      "File \u001b[1;32m~\\AppData\\Local\\Programs\\Python\\Python310\\lib\\site-packages\\pandas\\core\\generic.py:2357\u001b[0m, in \u001b[0;36mNDFrame.to_excel\u001b[1;34m(self, excel_writer, sheet_name, na_rep, float_format, columns, header, index, index_label, startrow, startcol, engine, merge_cells, encoding, inf_rep, verbose, freeze_panes, storage_options)\u001b[0m\n\u001b[0;32m   <a href='file:///c%3A/Users/Yanina/AppData/Local/Programs/Python/Python310/lib/site-packages/pandas/core/generic.py?line=2343'>2344</a>\u001b[0m \u001b[39mfrom\u001b[39;00m \u001b[39mpandas\u001b[39;00m\u001b[39m.\u001b[39;00m\u001b[39mio\u001b[39;00m\u001b[39m.\u001b[39;00m\u001b[39mformats\u001b[39;00m\u001b[39m.\u001b[39;00m\u001b[39mexcel\u001b[39;00m \u001b[39mimport\u001b[39;00m ExcelFormatter\n\u001b[0;32m   <a href='file:///c%3A/Users/Yanina/AppData/Local/Programs/Python/Python310/lib/site-packages/pandas/core/generic.py?line=2345'>2346</a>\u001b[0m formatter \u001b[39m=\u001b[39m ExcelFormatter(\n\u001b[0;32m   <a href='file:///c%3A/Users/Yanina/AppData/Local/Programs/Python/Python310/lib/site-packages/pandas/core/generic.py?line=2346'>2347</a>\u001b[0m     df,\n\u001b[0;32m   <a href='file:///c%3A/Users/Yanina/AppData/Local/Programs/Python/Python310/lib/site-packages/pandas/core/generic.py?line=2347'>2348</a>\u001b[0m     na_rep\u001b[39m=\u001b[39mna_rep,\n\u001b[1;32m   (...)\u001b[0m\n\u001b[0;32m   <a href='file:///c%3A/Users/Yanina/AppData/Local/Programs/Python/Python310/lib/site-packages/pandas/core/generic.py?line=2354'>2355</a>\u001b[0m     inf_rep\u001b[39m=\u001b[39minf_rep,\n\u001b[0;32m   <a href='file:///c%3A/Users/Yanina/AppData/Local/Programs/Python/Python310/lib/site-packages/pandas/core/generic.py?line=2355'>2356</a>\u001b[0m )\n\u001b[1;32m-> <a href='file:///c%3A/Users/Yanina/AppData/Local/Programs/Python/Python310/lib/site-packages/pandas/core/generic.py?line=2356'>2357</a>\u001b[0m formatter\u001b[39m.\u001b[39;49mwrite(\n\u001b[0;32m   <a href='file:///c%3A/Users/Yanina/AppData/Local/Programs/Python/Python310/lib/site-packages/pandas/core/generic.py?line=2357'>2358</a>\u001b[0m     excel_writer,\n\u001b[0;32m   <a href='file:///c%3A/Users/Yanina/AppData/Local/Programs/Python/Python310/lib/site-packages/pandas/core/generic.py?line=2358'>2359</a>\u001b[0m     sheet_name\u001b[39m=\u001b[39;49msheet_name,\n\u001b[0;32m   <a href='file:///c%3A/Users/Yanina/AppData/Local/Programs/Python/Python310/lib/site-packages/pandas/core/generic.py?line=2359'>2360</a>\u001b[0m     startrow\u001b[39m=\u001b[39;49mstartrow,\n\u001b[0;32m   <a href='file:///c%3A/Users/Yanina/AppData/Local/Programs/Python/Python310/lib/site-packages/pandas/core/generic.py?line=2360'>2361</a>\u001b[0m     startcol\u001b[39m=\u001b[39;49mstartcol,\n\u001b[0;32m   <a href='file:///c%3A/Users/Yanina/AppData/Local/Programs/Python/Python310/lib/site-packages/pandas/core/generic.py?line=2361'>2362</a>\u001b[0m     freeze_panes\u001b[39m=\u001b[39;49mfreeze_panes,\n\u001b[0;32m   <a href='file:///c%3A/Users/Yanina/AppData/Local/Programs/Python/Python310/lib/site-packages/pandas/core/generic.py?line=2362'>2363</a>\u001b[0m     engine\u001b[39m=\u001b[39;49mengine,\n\u001b[0;32m   <a href='file:///c%3A/Users/Yanina/AppData/Local/Programs/Python/Python310/lib/site-packages/pandas/core/generic.py?line=2363'>2364</a>\u001b[0m     storage_options\u001b[39m=\u001b[39;49mstorage_options,\n\u001b[0;32m   <a href='file:///c%3A/Users/Yanina/AppData/Local/Programs/Python/Python310/lib/site-packages/pandas/core/generic.py?line=2364'>2365</a>\u001b[0m )\n",
      "File \u001b[1;32m~\\AppData\\Local\\Programs\\Python\\Python310\\lib\\site-packages\\pandas\\io\\formats\\excel.py:886\u001b[0m, in \u001b[0;36mExcelFormatter.write\u001b[1;34m(self, writer, sheet_name, startrow, startcol, freeze_panes, engine, storage_options)\u001b[0m\n\u001b[0;32m    <a href='file:///c%3A/Users/Yanina/AppData/Local/Programs/Python/Python310/lib/site-packages/pandas/io/formats/excel.py?line=881'>882</a>\u001b[0m     need_save \u001b[39m=\u001b[39m \u001b[39mFalse\u001b[39;00m\n\u001b[0;32m    <a href='file:///c%3A/Users/Yanina/AppData/Local/Programs/Python/Python310/lib/site-packages/pandas/io/formats/excel.py?line=882'>883</a>\u001b[0m \u001b[39melse\u001b[39;00m:\n\u001b[0;32m    <a href='file:///c%3A/Users/Yanina/AppData/Local/Programs/Python/Python310/lib/site-packages/pandas/io/formats/excel.py?line=883'>884</a>\u001b[0m     \u001b[39m# error: Cannot instantiate abstract class 'ExcelWriter' with abstract\u001b[39;00m\n\u001b[0;32m    <a href='file:///c%3A/Users/Yanina/AppData/Local/Programs/Python/Python310/lib/site-packages/pandas/io/formats/excel.py?line=884'>885</a>\u001b[0m     \u001b[39m# attributes 'engine', 'save', 'supported_extensions' and 'write_cells'\u001b[39;00m\n\u001b[1;32m--> <a href='file:///c%3A/Users/Yanina/AppData/Local/Programs/Python/Python310/lib/site-packages/pandas/io/formats/excel.py?line=885'>886</a>\u001b[0m     writer \u001b[39m=\u001b[39m ExcelWriter(  \u001b[39m# type: ignore[abstract]\u001b[39;49;00m\n\u001b[0;32m    <a href='file:///c%3A/Users/Yanina/AppData/Local/Programs/Python/Python310/lib/site-packages/pandas/io/formats/excel.py?line=886'>887</a>\u001b[0m         writer, engine\u001b[39m=\u001b[39;49mengine, storage_options\u001b[39m=\u001b[39;49mstorage_options\n\u001b[0;32m    <a href='file:///c%3A/Users/Yanina/AppData/Local/Programs/Python/Python310/lib/site-packages/pandas/io/formats/excel.py?line=887'>888</a>\u001b[0m     )\n\u001b[0;32m    <a href='file:///c%3A/Users/Yanina/AppData/Local/Programs/Python/Python310/lib/site-packages/pandas/io/formats/excel.py?line=888'>889</a>\u001b[0m     need_save \u001b[39m=\u001b[39m \u001b[39mTrue\u001b[39;00m\n\u001b[0;32m    <a href='file:///c%3A/Users/Yanina/AppData/Local/Programs/Python/Python310/lib/site-packages/pandas/io/formats/excel.py?line=890'>891</a>\u001b[0m \u001b[39mtry\u001b[39;00m:\n",
      "File \u001b[1;32m~\\AppData\\Local\\Programs\\Python\\Python310\\lib\\site-packages\\pandas\\io\\excel\\_openpyxl.py:53\u001b[0m, in \u001b[0;36mOpenpyxlWriter.__init__\u001b[1;34m(self, path, engine, date_format, datetime_format, mode, storage_options, if_sheet_exists, engine_kwargs, **kwargs)\u001b[0m\n\u001b[0;32m     <a href='file:///c%3A/Users/Yanina/AppData/Local/Programs/Python/Python310/lib/site-packages/pandas/io/excel/_openpyxl.py?line=48'>49</a>\u001b[0m \u001b[39mfrom\u001b[39;00m \u001b[39mopenpyxl\u001b[39;00m\u001b[39m.\u001b[39;00m\u001b[39mworkbook\u001b[39;00m \u001b[39mimport\u001b[39;00m Workbook\n\u001b[0;32m     <a href='file:///c%3A/Users/Yanina/AppData/Local/Programs/Python/Python310/lib/site-packages/pandas/io/excel/_openpyxl.py?line=50'>51</a>\u001b[0m engine_kwargs \u001b[39m=\u001b[39m combine_kwargs(engine_kwargs, kwargs)\n\u001b[1;32m---> <a href='file:///c%3A/Users/Yanina/AppData/Local/Programs/Python/Python310/lib/site-packages/pandas/io/excel/_openpyxl.py?line=52'>53</a>\u001b[0m \u001b[39msuper\u001b[39;49m()\u001b[39m.\u001b[39;49m\u001b[39m__init__\u001b[39;49m(\n\u001b[0;32m     <a href='file:///c%3A/Users/Yanina/AppData/Local/Programs/Python/Python310/lib/site-packages/pandas/io/excel/_openpyxl.py?line=53'>54</a>\u001b[0m     path,\n\u001b[0;32m     <a href='file:///c%3A/Users/Yanina/AppData/Local/Programs/Python/Python310/lib/site-packages/pandas/io/excel/_openpyxl.py?line=54'>55</a>\u001b[0m     mode\u001b[39m=\u001b[39;49mmode,\n\u001b[0;32m     <a href='file:///c%3A/Users/Yanina/AppData/Local/Programs/Python/Python310/lib/site-packages/pandas/io/excel/_openpyxl.py?line=55'>56</a>\u001b[0m     storage_options\u001b[39m=\u001b[39;49mstorage_options,\n\u001b[0;32m     <a href='file:///c%3A/Users/Yanina/AppData/Local/Programs/Python/Python310/lib/site-packages/pandas/io/excel/_openpyxl.py?line=56'>57</a>\u001b[0m     if_sheet_exists\u001b[39m=\u001b[39;49mif_sheet_exists,\n\u001b[0;32m     <a href='file:///c%3A/Users/Yanina/AppData/Local/Programs/Python/Python310/lib/site-packages/pandas/io/excel/_openpyxl.py?line=57'>58</a>\u001b[0m     engine_kwargs\u001b[39m=\u001b[39;49mengine_kwargs,\n\u001b[0;32m     <a href='file:///c%3A/Users/Yanina/AppData/Local/Programs/Python/Python310/lib/site-packages/pandas/io/excel/_openpyxl.py?line=58'>59</a>\u001b[0m )\n\u001b[0;32m     <a href='file:///c%3A/Users/Yanina/AppData/Local/Programs/Python/Python310/lib/site-packages/pandas/io/excel/_openpyxl.py?line=60'>61</a>\u001b[0m \u001b[39m# ExcelWriter replaced \"a\" by \"r+\" to allow us to first read the excel file from\u001b[39;00m\n\u001b[0;32m     <a href='file:///c%3A/Users/Yanina/AppData/Local/Programs/Python/Python310/lib/site-packages/pandas/io/excel/_openpyxl.py?line=61'>62</a>\u001b[0m \u001b[39m# the file and later write to it\u001b[39;00m\n\u001b[0;32m     <a href='file:///c%3A/Users/Yanina/AppData/Local/Programs/Python/Python310/lib/site-packages/pandas/io/excel/_openpyxl.py?line=62'>63</a>\u001b[0m \u001b[39mif\u001b[39;00m \u001b[39m\"\u001b[39m\u001b[39mr+\u001b[39m\u001b[39m\"\u001b[39m \u001b[39min\u001b[39;00m \u001b[39mself\u001b[39m\u001b[39m.\u001b[39mmode:  \u001b[39m# Load from existing workbook\u001b[39;00m\n",
      "File \u001b[1;32m~\\AppData\\Local\\Programs\\Python\\Python310\\lib\\site-packages\\pandas\\io\\excel\\_base.py:1106\u001b[0m, in \u001b[0;36mExcelWriter.__init__\u001b[1;34m(self, path, engine, date_format, datetime_format, mode, storage_options, if_sheet_exists, engine_kwargs, **kwargs)\u001b[0m\n\u001b[0;32m   <a href='file:///c%3A/Users/Yanina/AppData/Local/Programs/Python/Python310/lib/site-packages/pandas/io/excel/_base.py?line=1101'>1102</a>\u001b[0m \u001b[39mself\u001b[39m\u001b[39m.\u001b[39mhandles \u001b[39m=\u001b[39m IOHandles(\n\u001b[0;32m   <a href='file:///c%3A/Users/Yanina/AppData/Local/Programs/Python/Python310/lib/site-packages/pandas/io/excel/_base.py?line=1102'>1103</a>\u001b[0m     cast(IO[\u001b[39mbytes\u001b[39m], path), compression\u001b[39m=\u001b[39m{\u001b[39m\"\u001b[39m\u001b[39mcompression\u001b[39m\u001b[39m\"\u001b[39m: \u001b[39mNone\u001b[39;00m}\n\u001b[0;32m   <a href='file:///c%3A/Users/Yanina/AppData/Local/Programs/Python/Python310/lib/site-packages/pandas/io/excel/_base.py?line=1103'>1104</a>\u001b[0m )\n\u001b[0;32m   <a href='file:///c%3A/Users/Yanina/AppData/Local/Programs/Python/Python310/lib/site-packages/pandas/io/excel/_base.py?line=1104'>1105</a>\u001b[0m \u001b[39mif\u001b[39;00m \u001b[39mnot\u001b[39;00m \u001b[39misinstance\u001b[39m(path, ExcelWriter):\n\u001b[1;32m-> <a href='file:///c%3A/Users/Yanina/AppData/Local/Programs/Python/Python310/lib/site-packages/pandas/io/excel/_base.py?line=1105'>1106</a>\u001b[0m     \u001b[39mself\u001b[39m\u001b[39m.\u001b[39mhandles \u001b[39m=\u001b[39m get_handle(\n\u001b[0;32m   <a href='file:///c%3A/Users/Yanina/AppData/Local/Programs/Python/Python310/lib/site-packages/pandas/io/excel/_base.py?line=1106'>1107</a>\u001b[0m         path, mode, storage_options\u001b[39m=\u001b[39;49mstorage_options, is_text\u001b[39m=\u001b[39;49m\u001b[39mFalse\u001b[39;49;00m\n\u001b[0;32m   <a href='file:///c%3A/Users/Yanina/AppData/Local/Programs/Python/Python310/lib/site-packages/pandas/io/excel/_base.py?line=1107'>1108</a>\u001b[0m     )\n\u001b[0;32m   <a href='file:///c%3A/Users/Yanina/AppData/Local/Programs/Python/Python310/lib/site-packages/pandas/io/excel/_base.py?line=1108'>1109</a>\u001b[0m \u001b[39mself\u001b[39m\u001b[39m.\u001b[39msheets: \u001b[39mdict\u001b[39m[\u001b[39mstr\u001b[39m, Any] \u001b[39m=\u001b[39m {}\n\u001b[0;32m   <a href='file:///c%3A/Users/Yanina/AppData/Local/Programs/Python/Python310/lib/site-packages/pandas/io/excel/_base.py?line=1109'>1110</a>\u001b[0m \u001b[39mself\u001b[39m\u001b[39m.\u001b[39mcur_sheet \u001b[39m=\u001b[39m \u001b[39mNone\u001b[39;00m\n",
      "File \u001b[1;32m~\\AppData\\Local\\Programs\\Python\\Python310\\lib\\site-packages\\pandas\\io\\common.py:798\u001b[0m, in \u001b[0;36mget_handle\u001b[1;34m(path_or_buf, mode, encoding, compression, memory_map, is_text, errors, storage_options)\u001b[0m\n\u001b[0;32m    <a href='file:///c%3A/Users/Yanina/AppData/Local/Programs/Python/Python310/lib/site-packages/pandas/io/common.py?line=788'>789</a>\u001b[0m         handle \u001b[39m=\u001b[39m \u001b[39mopen\u001b[39m(\n\u001b[0;32m    <a href='file:///c%3A/Users/Yanina/AppData/Local/Programs/Python/Python310/lib/site-packages/pandas/io/common.py?line=789'>790</a>\u001b[0m             handle,\n\u001b[0;32m    <a href='file:///c%3A/Users/Yanina/AppData/Local/Programs/Python/Python310/lib/site-packages/pandas/io/common.py?line=790'>791</a>\u001b[0m             ioargs\u001b[39m.\u001b[39mmode,\n\u001b[1;32m   (...)\u001b[0m\n\u001b[0;32m    <a href='file:///c%3A/Users/Yanina/AppData/Local/Programs/Python/Python310/lib/site-packages/pandas/io/common.py?line=793'>794</a>\u001b[0m             newline\u001b[39m=\u001b[39m\u001b[39m\"\u001b[39m\u001b[39m\"\u001b[39m,\n\u001b[0;32m    <a href='file:///c%3A/Users/Yanina/AppData/Local/Programs/Python/Python310/lib/site-packages/pandas/io/common.py?line=794'>795</a>\u001b[0m         )\n\u001b[0;32m    <a href='file:///c%3A/Users/Yanina/AppData/Local/Programs/Python/Python310/lib/site-packages/pandas/io/common.py?line=795'>796</a>\u001b[0m     \u001b[39melse\u001b[39;00m:\n\u001b[0;32m    <a href='file:///c%3A/Users/Yanina/AppData/Local/Programs/Python/Python310/lib/site-packages/pandas/io/common.py?line=796'>797</a>\u001b[0m         \u001b[39m# Binary mode\u001b[39;00m\n\u001b[1;32m--> <a href='file:///c%3A/Users/Yanina/AppData/Local/Programs/Python/Python310/lib/site-packages/pandas/io/common.py?line=797'>798</a>\u001b[0m         handle \u001b[39m=\u001b[39m \u001b[39mopen\u001b[39;49m(handle, ioargs\u001b[39m.\u001b[39;49mmode)\n\u001b[0;32m    <a href='file:///c%3A/Users/Yanina/AppData/Local/Programs/Python/Python310/lib/site-packages/pandas/io/common.py?line=798'>799</a>\u001b[0m     handles\u001b[39m.\u001b[39mappend(handle)\n\u001b[0;32m    <a href='file:///c%3A/Users/Yanina/AppData/Local/Programs/Python/Python310/lib/site-packages/pandas/io/common.py?line=800'>801</a>\u001b[0m \u001b[39m# Convert BytesIO or file objects passed with an encoding\u001b[39;00m\n",
      "\u001b[1;31mPermissionError\u001b[0m: [Errno 13] Permission denied: 'formulario2S_exp.xlsx'"
     ]
    }
   ],
   "source": [
    "#Código\n",
    "import pandas as pd \n",
    "\n",
    "base_de_datos= pd.read_excel(\"base_de_datos.xlsx\")\n",
    "df.to_excel (\"formulario2S_exp.xlsx\")\n",
    "\n"
   ]
  }
 ],
 "metadata": {
  "interpreter": {
   "hash": "4dbc7d319552f751da30033d7b4995c635b04ff01c80dae115406c1f1bb6c9c9"
  },
  "kernelspec": {
   "display_name": "Python 3.8.5 32-bit",
   "language": "python",
   "name": "python3"
  },
  "language_info": {
   "codemirror_mode": {
    "name": "ipython",
    "version": 3
   },
   "file_extension": ".py",
   "mimetype": "text/x-python",
   "name": "python",
   "nbconvert_exporter": "python",
   "pygments_lexer": "ipython3",
   "version": "3.10.4"
  },
  "orig_nbformat": 4
 },
 "nbformat": 4,
 "nbformat_minor": 2
}
