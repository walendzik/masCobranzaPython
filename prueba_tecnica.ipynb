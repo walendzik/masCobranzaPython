{
 "cells": [
  {
   "cell_type": "markdown",
   "metadata": {},
   "source": [
    "# Prueba Técnica - MasCobranzas - Marzo 2022"
   ]
  },
  {
   "cell_type": "markdown",
   "metadata": {},
   "source": [
    "Utilizar la librería Pandas para la resolución de los siguientes items:"
   ]
  },
  {
   "cell_type": "markdown",
   "metadata": {},
   "source": [
    "Importación de la Librería:"
   ]
  },
  {
   "cell_type": "markdown",
   "metadata": {},
   "source": [
    "1 - Lectura del archivo"
   ]
  },
  {
   "cell_type": "code",
   "execution_count": null,
   "metadata": {},
   "outputs": [],
   "source": [
    "import pandas as pd\n",
    "\n",
    "df= pd.read_excel(r'base_de_datos.xlsx')\n",
    "\n",
    "print(df)\n"
   ]
  },
  {
   "cell_type": "markdown",
   "metadata": {},
   "source": [
    "2 - Mostrar el nombre de las columnas que contiene la base de datos."
   ]
  },
  {
   "cell_type": "code",
   "execution_count": null,
   "metadata": {},
   "outputs": [],
   "source": [
    "#Código\n",
    "cols=list(df.columns)\n",
    "cols\n"
   ]
  },
  {
   "cell_type": "markdown",
   "metadata": {},
   "source": [
    "3 - Realizar un validador de columnas tal que evalúe los nombres de las columnas mostradas en el punto anterior y muestre un mensaje diciendo \"columnas válidas\" si se encuentra todas estas columnas, si hay alguna que está faltando o tiene distinto nombre, que informe de qué columna se trata."
   ]
  },
  {
   "cell_type": "code",
   "execution_count": null,
   "metadata": {},
   "outputs": [],
   "source": [
    "#Código\n"
   ]
  },
  {
   "cell_type": "markdown",
   "metadata": {},
   "source": [
    "4 - Mostrar la cantidad de filas y columnas de la base de datos."
   ]
  },
  {
   "cell_type": "code",
   "execution_count": null,
   "metadata": {},
   "outputs": [],
   "source": [
    "#Código\n",
    "#df.shape\n",
    "print (\"columnas\",len(df.columns))\n",
    "print (\"filas\",len(df.index))\n"
   ]
  },
  {
   "cell_type": "markdown",
   "metadata": {},
   "source": [
    "5 - Mostrar la información de los primeros 10 registros."
   ]
  },
  {
   "cell_type": "code",
   "execution_count": null,
   "metadata": {},
   "outputs": [],
   "source": [
    "#Código\n",
    "df.iloc[0:10,:]\n"
   ]
  },
  {
   "cell_type": "markdown",
   "metadata": {},
   "source": [
    "6 - Generar una nueva columna con el nombre de \"Nombre Completo\" donde sea una concatenación de las columnas \"Apellido\" y \"Nombre\". Esta nueva columna debe ser la 2da columna de la base de datos, eliminando las 2 columnas mencionadas."
   ]
  },
  {
   "cell_type": "code",
   "execution_count": null,
   "metadata": {},
   "outputs": [],
   "source": [
    "#Código\n",
    "df[\"Nombre completo\"]= df [\"Apellido\"]+ \" \"+ df [ \"Nombre\"]\n",
    "\n",
    "df.drop(columns=[\"Apellido\",'Nombre'])\n",
    "cols=list(df.columns)\n",
    "cols\n",
    "\n",
    "df[['Matrícula','Nombre completo', 'Categoría', 'Departamento', 'Sección', 'Salario', 'Fecha ingreso', 'Fch nacimiento'\n",
    " ]]\n",
    " "
   ]
  },
  {
   "cell_type": "markdown",
   "metadata": {},
   "source": [
    "7 - La columna H e I de la base de datos contiene los nombres de \"Fch ingreso\" y \"Fch nacimiento\". Renombrar estas columnas por su nombre correcto: \"Fecha Ingreso\" y \"Fecha Nacimiento\"."
   ]
  },
  {
   "cell_type": "code",
   "execution_count": null,
   "metadata": {},
   "outputs": [],
   "source": [
    "#Código\n",
    "df.rename({\"Fecha ingreso\": \"Fecha Ingreso\",\"Fch nacimiento\": \"Fecha Nacimiento\"}, axis='columns' )\n",
    "\n"
   ]
  },
  {
   "cell_type": "markdown",
   "metadata": {},
   "source": [
    "8 - A estas columnas (\"Fecha Ingreso\" y \"Fecha Nacimiento\") reemplazar todos sus valores \"/\" por \"-\". De forma tal que la fecha quede especificada con el formato de la siguiente manera: dd-mm-aaaa"
   ]
  },
  {
   "cell_type": "code",
   "execution_count": null,
   "metadata": {},
   "outputs": [],
   "source": [
    "#Código\n"
   ]
  },
  {
   "cell_type": "markdown",
   "metadata": {},
   "source": [
    "9 - Generar una nueva columna a la derecha del resto, llamada \"Actividad\" donde todos sus valores sean \"Activo\"."
   ]
  },
  {
   "cell_type": "code",
   "execution_count": null,
   "metadata": {},
   "outputs": [],
   "source": [
    "#Código\n",
    "df['Actividad'] = \"Activo\" \n",
    "print (df)"
   ]
  },
  {
   "cell_type": "markdown",
   "metadata": {},
   "source": [
    "10 - Generar un nuevo excel con las modificaciones realizadas en los puntos anteriores."
   ]
  },
  {
   "cell_type": "code",
   "execution_count": null,
   "metadata": {},
   "outputs": [],
   "source": [
    "#Código\n",
    "import pandas as pd \n",
    "\n",
    "base_de_datos = pd.read_excel(\"base_de_datos.xlsx\")\n",
    "base_de_datos.to_excel (\"formulario_exp.xlsx\")"
   ]
  },
  {
   "cell_type": "markdown",
   "metadata": {},
   "source": []
  }
 ],
 "metadata": {
  "interpreter": {
   "hash": "4dbc7d319552f751da30033d7b4995c635b04ff01c80dae115406c1f1bb6c9c9"
  },
  "kernelspec": {
   "display_name": "Python 3.8.5 32-bit",
   "language": "python",
   "name": "python3"
  },
  "language_info": {
   "codemirror_mode": {
    "name": "ipython",
    "version": 3
   },
   "file_extension": ".py",
   "mimetype": "text/x-python",
   "name": "python",
   "nbconvert_exporter": "python",
   "pygments_lexer": "ipython3",
   "version": "3.10.4"
  },
  "orig_nbformat": 4
 },
 "nbformat": 4,
 "nbformat_minor": 2
}
